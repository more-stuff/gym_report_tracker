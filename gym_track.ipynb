{
 "cells": [
  {
   "cell_type": "code",
   "execution_count": 2,
   "metadata": {},
   "outputs": [],
   "source": [
    "import datetime\n",
    "import matplotlib.pyplot as plt\n",
    "import matplotlib.dates as mdates\n",
    "import pandas as pd\n",
    "from time import strptime"
   ]
  },
  {
   "cell_type": "code",
   "execution_count": 3,
   "metadata": {},
   "outputs": [
    {
     "data": {
      "text/html": [
       "<div>\n",
       "<style scoped>\n",
       "    .dataframe tbody tr th:only-of-type {\n",
       "        vertical-align: middle;\n",
       "    }\n",
       "\n",
       "    .dataframe tbody tr th {\n",
       "        vertical-align: top;\n",
       "    }\n",
       "\n",
       "    .dataframe thead th {\n",
       "        text-align: right;\n",
       "    }\n",
       "</style>\n",
       "<table border=\"1\" class=\"dataframe\">\n",
       "  <thead>\n",
       "    <tr style=\"text-align: right;\">\n",
       "      <th></th>\n",
       "      <th>Name</th>\n",
       "      <th>Date</th>\n",
       "      <th>Series</th>\n",
       "      <th>Reps</th>\n",
       "      <th>Weight</th>\n",
       "    </tr>\n",
       "  </thead>\n",
       "  <tbody>\n",
       "    <tr>\n",
       "      <th>0</th>\n",
       "      <td>Press banca</td>\n",
       "      <td>April 6, 2022</td>\n",
       "      <td>4</td>\n",
       "      <td>12</td>\n",
       "      <td>20</td>\n",
       "    </tr>\n",
       "    <tr>\n",
       "      <th>1</th>\n",
       "      <td>Press banca</td>\n",
       "      <td>April 7, 2022</td>\n",
       "      <td>4</td>\n",
       "      <td>12</td>\n",
       "      <td>26</td>\n",
       "    </tr>\n",
       "    <tr>\n",
       "      <th>2</th>\n",
       "      <td>Press banca</td>\n",
       "      <td>April 8, 2022</td>\n",
       "      <td>4</td>\n",
       "      <td>12</td>\n",
       "      <td>22</td>\n",
       "    </tr>\n",
       "    <tr>\n",
       "      <th>3</th>\n",
       "      <td>Press banca</td>\n",
       "      <td>April 10, 2022</td>\n",
       "      <td>4</td>\n",
       "      <td>12</td>\n",
       "      <td>30</td>\n",
       "    </tr>\n",
       "  </tbody>\n",
       "</table>\n",
       "</div>"
      ],
      "text/plain": [
       "          Name            Date  Series  Reps  Weight\n",
       "0  Press banca   April 6, 2022       4    12      20\n",
       "1  Press banca   April 7, 2022       4    12      26\n",
       "2  Press banca   April 8, 2022       4    12      22\n",
       "3  Press banca  April 10, 2022       4    12      30"
      ]
     },
     "execution_count": 3,
     "metadata": {},
     "output_type": "execute_result"
    }
   ],
   "source": [
    "dt = pd.read_csv('./daily_trac.csv')\n",
    "dt.drop('Tags', inplace=True, axis=1)\n",
    "dt"
   ]
  },
  {
   "cell_type": "code",
   "execution_count": null,
   "metadata": {},
   "outputs": [],
   "source": [
    "# get the data for the specified exercise\n",
    "name_exercise = input(\"Introduce the name of the exercise: \")\n",
    "\n",
    "dt = dt[dt['Name'] == name_exercise]"
   ]
  },
  {
   "cell_type": "code",
   "execution_count": 3,
   "metadata": {},
   "outputs": [],
   "source": [
    "# here we have to replace the date values from the notion to year-month-day\n",
    "for i, row in dt.iterrows():\n",
    "\n",
    "    date = dt['Date'][i].split(', '[1])\n",
    "\n",
    "    year = date[2]\n",
    "    day = date[1][:-1]\n",
    "    month = str(strptime(date[0][:3],'%b').tm_mon)\n",
    "\n",
    "    if len(day) == 1:\n",
    "        day = f'0{day}'\n",
    "\n",
    "    if len(month) == 1:\n",
    "        month = f'0{month}'\n",
    "\n",
    "    dt.at[i, 'Date'] = int(f'{year}{month}{day}')\n",
    "\n",
    "    # create the date for the graph\n",
    "    dt['sort_date'] = datetime.date(int(year), int(month), int(day))"
   ]
  },
  {
   "cell_type": "code",
   "execution_count": 5,
   "metadata": {},
   "outputs": [],
   "source": [
    "# sort the dataset into the date\n",
    "dt[\"sort_date\"] = pd.to_datetime(dt[\"Date\"])\n",
    "\n",
    "dt = dt.sort_values(by=\"sort_date\")"
   ]
  },
  {
   "cell_type": "code",
   "execution_count": 6,
   "metadata": {},
   "outputs": [],
   "source": [
    "# delete the column of the pandas dataset\n",
    "dt.drop('sort_date', inplace=True, axis=1)"
   ]
  },
  {
   "cell_type": "code",
   "execution_count": 7,
   "metadata": {},
   "outputs": [
    {
     "data": {
      "text/html": [
       "<div>\n",
       "<style scoped>\n",
       "    .dataframe tbody tr th:only-of-type {\n",
       "        vertical-align: middle;\n",
       "    }\n",
       "\n",
       "    .dataframe tbody tr th {\n",
       "        vertical-align: top;\n",
       "    }\n",
       "\n",
       "    .dataframe thead th {\n",
       "        text-align: right;\n",
       "    }\n",
       "</style>\n",
       "<table border=\"1\" class=\"dataframe\">\n",
       "  <thead>\n",
       "    <tr style=\"text-align: right;\">\n",
       "      <th></th>\n",
       "      <th>Name</th>\n",
       "      <th>Date</th>\n",
       "      <th>Series</th>\n",
       "      <th>Reps</th>\n",
       "      <th>Weight</th>\n",
       "    </tr>\n",
       "  </thead>\n",
       "  <tbody>\n",
       "    <tr>\n",
       "      <th>0</th>\n",
       "      <td>Press banca</td>\n",
       "      <td>20220406</td>\n",
       "      <td>4</td>\n",
       "      <td>12</td>\n",
       "      <td>20</td>\n",
       "    </tr>\n",
       "    <tr>\n",
       "      <th>1</th>\n",
       "      <td>Press banca</td>\n",
       "      <td>20220407</td>\n",
       "      <td>4</td>\n",
       "      <td>12</td>\n",
       "      <td>26</td>\n",
       "    </tr>\n",
       "    <tr>\n",
       "      <th>2</th>\n",
       "      <td>Press banca</td>\n",
       "      <td>20220408</td>\n",
       "      <td>4</td>\n",
       "      <td>12</td>\n",
       "      <td>22</td>\n",
       "    </tr>\n",
       "    <tr>\n",
       "      <th>3</th>\n",
       "      <td>Press banca</td>\n",
       "      <td>20220410</td>\n",
       "      <td>4</td>\n",
       "      <td>12</td>\n",
       "      <td>30</td>\n",
       "    </tr>\n",
       "  </tbody>\n",
       "</table>\n",
       "</div>"
      ],
      "text/plain": [
       "          Name      Date  Series  Reps  Weight\n",
       "0  Press banca  20220406       4    12      20\n",
       "1  Press banca  20220407       4    12      26\n",
       "2  Press banca  20220408       4    12      22\n",
       "3  Press banca  20220410       4    12      30"
      ]
     },
     "execution_count": 7,
     "metadata": {},
     "output_type": "execute_result"
    }
   ],
   "source": [
    "dt"
   ]
  },
  {
   "cell_type": "code",
   "execution_count": 17,
   "metadata": {},
   "outputs": [
    {
     "name": "stdout",
     "output_type": "stream",
     "text": [
      "0    20220406\n",
      "1    20220407\n",
      "2    20220408\n",
      "3    20220410\n",
      "Name: Date, dtype: object\n"
     ]
    },
    {
     "data": {
      "text/plain": [
       "[<matplotlib.lines.Line2D at 0x21a116947b8>]"
      ]
     },
     "execution_count": 17,
     "metadata": {},
     "output_type": "execute_result"
    },
    {
     "data": {
      "image/png": "[encoded data removed]",
      "text/plain": [
       "<Figure size 432x288 with 1 Axes>"
      ]
     },
     "metadata": {
      "needs_background": "light"
     },
     "output_type": "display_data"
    }
   ],
   "source": [
    "dates = [\"2020-01-02\",\"2020-01-03\", \"2020-01-04\"]\n",
    "dates = dt['Date']\n",
    "\n",
    "x_values = [datetime.datetime.strptime(str(d),\"%Y%m%d\").date() for d in dates]\n",
    "y_values = dt['Weight']\n",
    "\n",
    "ax = plt.gca()\n",
    "formatter = mdates.DateFormatter(\"%Y-%m-%d\")\n",
    "ax.xaxis.set_major_formatter(formatter)\n",
    "locator = mdates.DayLocator()\n",
    "ax.xaxis.set_major_locator(locator)\n",
    "plt.plot(x_values, y_values)"
   ]
  }
 ],
 "metadata": {
  "interpreter": {
   "hash": "e73f067f1c59be12cfda938665c6a960a5d3ec55ce3a05feea7c329cb1f7e9af"
  },
  "kernelspec": {
   "display_name": "Python 3.6.5 64-bit ('base': conda)",
   "language": "python",
   "name": "python3"
  },
  "language_info": {
   "codemirror_mode": {
    "name": "ipython",
    "version": 3
   },
   "file_extension": ".py",
   "mimetype": "text/x-python",
   "name": "python",
   "nbconvert_exporter": "python",
   "pygments_lexer": "ipython3",
   "version": "3.7.3"
  },
  "orig_nbformat": 4
 },
 "nbformat": 4,
 "nbformat_minor": 2
}
